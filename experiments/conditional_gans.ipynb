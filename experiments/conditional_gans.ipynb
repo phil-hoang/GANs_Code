{
 "cells": [
  {
   "cell_type": "code",
   "execution_count": 1,
   "metadata": {},
   "outputs": [],
   "source": [
    "# Conditional GANs"
   ]
  },
  {
   "cell_type": "code",
   "execution_count": 1,
   "metadata": {},
   "outputs": [
    {
     "name": "stdout",
     "output_type": "stream",
     "text": [
      "Init Plugin\n",
      "Init Graph Optimizer\n",
      "Init Kernel\n"
     ]
    }
   ],
   "source": [
    "from tensorflow import keras\n",
    "from tensorflow.keras import layers\n",
    "\n",
    "from tensorflow_docs.vis import embed\n",
    "import matplotlib.pyplot as plt\n",
    "import tensorflow as tf\n",
    "import numpy as np\n",
    "import imageio"
   ]
  },
  {
   "cell_type": "code",
   "execution_count": 2,
   "metadata": {},
   "outputs": [],
   "source": [
    "# Set parameters and constants\n",
    "batch_size = 64\n",
    "num_channels = 1\n",
    "num_classes = 10\n",
    "\n",
    "image_size = 28\n",
    "latent_dim = 128"
   ]
  },
  {
   "cell_type": "code",
   "execution_count": 3,
   "metadata": {},
   "outputs": [
    {
     "name": "stdout",
     "output_type": "stream",
     "text": [
      "(28, 28)\n",
      "10\n",
      "Metal device set to: Apple M1\n",
      "\n",
      "systemMemory: 16.00 GB\n",
      "maxCacheSize: 5.33 GB\n",
      "\n",
      "Shape of training images: (70000, 28, 28, 1)\n",
      "Shape of training labels: (70000, 10)\n"
     ]
    },
    {
     "name": "stderr",
     "output_type": "stream",
     "text": [
      "2021-10-22 20:26:03.565913: I tensorflow/core/common_runtime/pluggable_device/pluggable_device_factory.cc:305] Could not identify NUMA node of platform GPU ID 0, defaulting to 0. Your kernel may not have been built with NUMA support.\n",
      "2021-10-22 20:26:03.566072: I tensorflow/core/common_runtime/pluggable_device/pluggable_device_factory.cc:271] Created TensorFlow device (/job:localhost/replica:0/task:0/device:GPU:0 with 0 MB memory) -> physical PluggableDevice (device: 0, name: METAL, pci bus id: <undefined>)\n"
     ]
    }
   ],
   "source": [
    "# Load dataset\n",
    "\n",
    "(x_train, y_train), (x_test, y_test) = keras.datasets.mnist.load_data()\n",
    "all_digits = np.concatenate([x_train, x_test])\n",
    "all_labels = np.concatenate([y_train, y_test])\n",
    "\n",
    "print(x_train[0].shape)\n",
    "# Image dimension:\n",
    "# (batch, x, y, colour_channel)\n",
    "\n",
    "# Scale the pixel values to [0, 1] range, add a channel dimension to\n",
    "# the images, and one-hot encode the labels.\n",
    "all_digits = all_digits.astype(\"float32\") / 255.0\n",
    "all_digits = np.reshape(all_digits, (-1, 28, 28, 1))\n",
    "all_labels = keras.utils.to_categorical(all_labels, 10)\n",
    "\n",
    "print(all_labels.shape[1])\n",
    "\n",
    "# Create tf.data.Dataset.\n",
    "dataset = tf.data.Dataset.from_tensor_slices((all_digits, all_labels))\n",
    "dataset = dataset.shuffle(buffer_size=1024).batch(batch_size)\n",
    "\n",
    "print(f\"Shape of training images: {all_digits.shape}\")\n",
    "print(f\"Shape of training labels: {all_labels.shape}\")"
   ]
  },
  {
   "cell_type": "code",
   "execution_count": 4,
   "metadata": {},
   "outputs": [
    {
     "name": "stdout",
     "output_type": "stream",
     "text": [
      "138 11\n"
     ]
    }
   ],
   "source": [
    "# Inputs Generator\n",
    "generator_in_channels = latent_dim + num_classes\n",
    "discriminator_in_channels = num_channels + num_classes\n",
    "print(generator_in_channels, discriminator_in_channels)"
   ]
  },
  {
   "cell_type": "markdown",
   "metadata": {},
   "source": [
    "## Create Generator and Discriminator"
   ]
  },
  {
   "cell_type": "code",
   "execution_count": 5,
   "metadata": {},
   "outputs": [],
   "source": [
    "# Create the discriminator.\n",
    "discriminator = keras.Sequential(\n",
    "    [\n",
    "        keras.layers.InputLayer((28, 28, discriminator_in_channels)),\n",
    "        layers.Conv2D(64, (3, 3), strides=(2, 2), padding=\"same\"),\n",
    "        layers.LeakyReLU(alpha=0.2),\n",
    "        layers.Conv2D(128, (3, 3), strides=(2, 2), padding=\"same\"),\n",
    "        layers.LeakyReLU(alpha=0.2),\n",
    "        layers.GlobalMaxPooling2D(),\n",
    "        layers.Dense(1),\n",
    "    ],\n",
    "    name=\"discriminator\",\n",
    ")\n",
    "\n",
    "# Create the generator.\n",
    "generator = keras.Sequential(\n",
    "    [\n",
    "        keras.layers.InputLayer((generator_in_channels,)),\n",
    "        # We want to generate 128 + num_classes coefficients to reshape into a\n",
    "        # 7x7x(128 + num_classes) map.\n",
    "        layers.Dense(7 * 7 * generator_in_channels),\n",
    "        layers.LeakyReLU(alpha=0.2),\n",
    "        layers.Reshape((7, 7, generator_in_channels)),\n",
    "        layers.Conv2DTranspose(128, (4, 4), strides=(2, 2), padding=\"same\"),\n",
    "        layers.LeakyReLU(alpha=0.2),\n",
    "        layers.Conv2DTranspose(128, (4, 4), strides=(2, 2), padding=\"same\"),\n",
    "        layers.LeakyReLU(alpha=0.2),\n",
    "        layers.Conv2D(1, (7, 7), padding=\"same\", activation=\"sigmoid\"),\n",
    "    ],\n",
    "    name=\"generator\",\n",
    ")"
   ]
  },
  {
   "cell_type": "code",
   "execution_count": null,
   "metadata": {},
   "outputs": [],
   "source": []
  },
  {
   "cell_type": "markdown",
   "metadata": {},
   "source": [
    "## Create Conditional GAN model"
   ]
  },
  {
   "cell_type": "code",
   "execution_count": 6,
   "metadata": {},
   "outputs": [],
   "source": [
    "class ConditionalGAN(keras.Model):\n",
    "    def __init__(self, discriminator, generator, latent_dim):\n",
    "        super(ConditionalGAN, self).__init__()\n",
    "        self.discriminator = discriminator\n",
    "        self.generator = generator\n",
    "        self.latent_dim = latent_dim\n",
    "        self.gen_loss_tracker = keras.metrics.Mean(name=\"generator_loss\")\n",
    "        self.disc_loss_tracker = keras.metrics.Mean(name=\"discriminator_loss\")\n",
    "\n",
    "\n",
    "    # Resets the losses after each epoch.\n",
    "    @property\n",
    "    def metrics(self):\n",
    "        return [self.gen_loss_tracker, self.disc_loss_tracker]\n",
    "\n",
    "    def compile(self, d_optimizer, g_optimizer, loss_fn):\n",
    "        super(ConditionalGAN, self).compile()\n",
    "        self.d_optimizer = d_optimizer\n",
    "        self.g_optimizer = g_optimizer\n",
    "        self.loss_fn = loss_fn\n",
    "\n",
    "\n",
    "\n",
    "    def train_step(self, data):\n",
    "        # Unpack the data.\n",
    "        real_images, one_hot_labels = data\n",
    "        \n",
    "        # Add dummy dimensions to the labels so that they can be concatenated with\n",
    "        # the images. This is for the discriminator.\n",
    "        image_one_hot_labels = one_hot_labels[:, :, None, None]\n",
    "        image_one_hot_labels = tf.repeat(\n",
    "            image_one_hot_labels, repeats=[image_size * image_size]\n",
    "        )\n",
    "        image_one_hot_labels = tf.reshape(\n",
    "            image_one_hot_labels, (-1, image_size, image_size, num_classes)\n",
    "        )\n",
    "\n",
    "        # Sample random points in the latent space and concatenate the labels.\n",
    "        # This is for the generator.\n",
    "        batch_size = tf.shape(real_images)[0]\n",
    "        random_latent_vectors = tf.random.normal(shape=(batch_size, self.latent_dim))\n",
    "        random_vector_labels = tf.concat(\n",
    "            [random_latent_vectors, one_hot_labels], axis=1\n",
    "        )\n",
    "\n",
    "        # Decode the noise (guided by labels) to fake images.\n",
    "        generated_images = self.generator(random_vector_labels)\n",
    "\n",
    "        # Combine them with real images. Note that we are concatenating the labels\n",
    "        # with these images here.\n",
    "        fake_image_and_labels = tf.concat([generated_images, image_one_hot_labels], -1)\n",
    "        real_image_and_labels = tf.concat([real_images, image_one_hot_labels], -1)\n",
    "        combined_images = tf.concat(\n",
    "            [fake_image_and_labels, real_image_and_labels], axis=0\n",
    "        )\n",
    "\n",
    "        # Assemble labels discriminating real from fake images.\n",
    "        labels = tf.concat([tf.ones((batch_size, 1)), tf.zeros((batch_size, 1))], axis=0)\n",
    "\n",
    "        # Train the discriminator.\n",
    "        with tf.GradientTape() as tape:\n",
    "            predictions = self.discriminator(combined_images)\n",
    "            d_loss = self.loss_fn(labels, predictions)\n",
    "        grads = tape.gradient(d_loss, self.discriminator.trainable_weights)\n",
    "        self.d_optimizer.apply_gradients(zip(grads, self.discriminator.trainable_weights))\n",
    "\n",
    "        # Sample random points in the latent space.\n",
    "        random_latent_vectors = tf.random.normal(shape=(batch_size, self.latent_dim))\n",
    "        random_vector_labels = tf.concat([random_latent_vectors, one_hot_labels], axis=1)\n",
    "\n",
    "        # Assemble labels that say \"all real images\".\n",
    "        misleading_labels = tf.zeros((batch_size, 1))\n",
    "\n",
    "        # Train the generator (note that we should *not* update the weights\n",
    "        # of the discriminator)!\n",
    "        with tf.GradientTape() as tape:\n",
    "            fake_images = self.generator(random_vector_labels)\n",
    "            fake_image_and_labels = tf.concat([fake_images, image_one_hot_labels], -1)\n",
    "            predictions = self.discriminator(fake_image_and_labels)\n",
    "            g_loss = self.loss_fn(misleading_labels, predictions)\n",
    "        grads = tape.gradient(g_loss, self.generator.trainable_weights)\n",
    "        self.g_optimizer.apply_gradients(zip(grads, self.generator.trainable_weights))\n",
    "\n",
    "        # Monitor loss.\n",
    "        self.gen_loss_tracker.update_state(g_loss)\n",
    "        self.disc_loss_tracker.update_state(d_loss)\n",
    "        \n",
    "        return {\"g_loss\": self.gen_loss_tracker.result(), \"d_loss\": self.disc_loss_tracker.result(),}"
   ]
  },
  {
   "cell_type": "code",
   "execution_count": 11,
   "metadata": {},
   "outputs": [
    {
     "ename": "NotImplementedError",
     "evalue": "When subclassing the `Model` class, you should implement a `call` method.",
     "output_type": "error",
     "traceback": [
      "\u001b[0;31m---------------------------------------------------------------------------\u001b[0m",
      "\u001b[0;31mNotImplementedError\u001b[0m                       Traceback (most recent call last)",
      "\u001b[0;32m/var/folders/gc/yh4g1g0s0kdcs4xhf03jp0380000gn/T/ipykernel_55332/3336951891.py\u001b[0m in \u001b[0;36m<module>\u001b[0;34m\u001b[0m\n\u001b[1;32m      5\u001b[0m )\n\u001b[1;32m      6\u001b[0m \u001b[0;34m\u001b[0m\u001b[0m\n\u001b[0;32m----> 7\u001b[0;31m \u001b[0mcond_gan\u001b[0m\u001b[0;34m.\u001b[0m\u001b[0mbuild\u001b[0m\u001b[0;34m(\u001b[0m\u001b[0minput_shape\u001b[0m\u001b[0;34m=\u001b[0m\u001b[0;34m(\u001b[0m\u001b[0;36m28\u001b[0m\u001b[0;34m,\u001b[0m\u001b[0;36m28\u001b[0m\u001b[0;34m,\u001b[0m\u001b[0;36m1\u001b[0m\u001b[0;34m)\u001b[0m\u001b[0;34m)\u001b[0m\u001b[0;34m\u001b[0m\u001b[0;34m\u001b[0m\u001b[0m\n\u001b[0m\u001b[1;32m      8\u001b[0m \u001b[0;34m\u001b[0m\u001b[0m\n\u001b[1;32m      9\u001b[0m \u001b[0mcond_gan\u001b[0m\u001b[0;34m.\u001b[0m\u001b[0msummary\u001b[0m\u001b[0;34m(\u001b[0m\u001b[0;34m)\u001b[0m\u001b[0;34m\u001b[0m\u001b[0;34m\u001b[0m\u001b[0m\n",
      "\u001b[0;32m/opt/homebrew/Caskroom/miniforge/base/envs/tf/lib/python3.9/site-packages/tensorflow/python/keras/engine/training.py\u001b[0m in \u001b[0;36mbuild\u001b[0;34m(self, input_shape)\u001b[0m\n\u001b[1;32m    441\u001b[0m                            'method accepts an `inputs` argument.')\n\u001b[1;32m    442\u001b[0m         \u001b[0;32mtry\u001b[0m\u001b[0;34m:\u001b[0m\u001b[0;34m\u001b[0m\u001b[0;34m\u001b[0m\u001b[0m\n\u001b[0;32m--> 443\u001b[0;31m           \u001b[0mself\u001b[0m\u001b[0;34m.\u001b[0m\u001b[0mcall\u001b[0m\u001b[0;34m(\u001b[0m\u001b[0mx\u001b[0m\u001b[0;34m,\u001b[0m \u001b[0;34m**\u001b[0m\u001b[0mkwargs\u001b[0m\u001b[0;34m)\u001b[0m\u001b[0;34m\u001b[0m\u001b[0;34m\u001b[0m\u001b[0m\n\u001b[0m\u001b[1;32m    444\u001b[0m         \u001b[0;32mexcept\u001b[0m \u001b[0;34m(\u001b[0m\u001b[0merrors\u001b[0m\u001b[0;34m.\u001b[0m\u001b[0mInvalidArgumentError\u001b[0m\u001b[0;34m,\u001b[0m \u001b[0mTypeError\u001b[0m\u001b[0;34m)\u001b[0m\u001b[0;34m:\u001b[0m\u001b[0;34m\u001b[0m\u001b[0;34m\u001b[0m\u001b[0m\n\u001b[1;32m    445\u001b[0m           raise ValueError('You cannot build your model by calling `build` '\n",
      "\u001b[0;32m/opt/homebrew/Caskroom/miniforge/base/envs/tf/lib/python3.9/site-packages/tensorflow/python/keras/engine/training.py\u001b[0m in \u001b[0;36mcall\u001b[0;34m(self, inputs, training, mask)\u001b[0m\n\u001b[1;32m    474\u001b[0m         \u001b[0ma\u001b[0m \u001b[0mlist\u001b[0m \u001b[0mof\u001b[0m \u001b[0mtensors\u001b[0m \u001b[0;32mif\u001b[0m \u001b[0mthere\u001b[0m \u001b[0mare\u001b[0m \u001b[0mmore\u001b[0m \u001b[0mthan\u001b[0m \u001b[0mone\u001b[0m \u001b[0moutputs\u001b[0m\u001b[0;34m.\u001b[0m\u001b[0;34m\u001b[0m\u001b[0;34m\u001b[0m\u001b[0m\n\u001b[1;32m    475\u001b[0m     \"\"\"\n\u001b[0;32m--> 476\u001b[0;31m     raise NotImplementedError('When subclassing the `Model` class, you should '\n\u001b[0m\u001b[1;32m    477\u001b[0m                               'implement a `call` method.')\n\u001b[1;32m    478\u001b[0m \u001b[0;34m\u001b[0m\u001b[0m\n",
      "\u001b[0;31mNotImplementedError\u001b[0m: When subclassing the `Model` class, you should implement a `call` method."
     ]
    }
   ],
   "source": [
    "#load_status = cond_gan.load_weights(\"conditional_gan_weights\")\n",
    "#load_status.assert_consumed()\n",
    "cond_gan = ConditionalGAN(\n",
    "    discriminator=discriminator, generator=generator, latent_dim=latent_dim\n",
    ")\n",
    "\n",
    "cond_gan.build(input_shape=(28,28,1))\n",
    "\n",
    "cond_gan.summary()"
   ]
  },
  {
   "cell_type": "code",
   "execution_count": 25,
   "metadata": {},
   "outputs": [
    {
     "name": "stdout",
     "output_type": "stream",
     "text": [
      "Epoch 1/2\n",
      "28\n",
      "10\n"
     ]
    },
    {
     "ename": "NotImplementedError",
     "evalue": "in user code:\n\n    /opt/homebrew/Caskroom/miniforge/base/envs/tf/lib/python3.9/site-packages/tensorflow/python/keras/engine/training.py:855 train_function  *\n        return step_function(self, iterator)\n    /opt/homebrew/Caskroom/miniforge/base/envs/tf/lib/python3.9/site-packages/tensorflow/python/keras/engine/training.py:845 step_function  **\n        outputs = model.distribute_strategy.run(run_step, args=(data,))\n    /opt/homebrew/Caskroom/miniforge/base/envs/tf/lib/python3.9/site-packages/tensorflow/python/distribute/distribute_lib.py:1285 run\n        return self._extended.call_for_each_replica(fn, args=args, kwargs=kwargs)\n    /opt/homebrew/Caskroom/miniforge/base/envs/tf/lib/python3.9/site-packages/tensorflow/python/distribute/distribute_lib.py:2833 call_for_each_replica\n        return self._call_for_each_replica(fn, args, kwargs)\n    /opt/homebrew/Caskroom/miniforge/base/envs/tf/lib/python3.9/site-packages/tensorflow/python/distribute/distribute_lib.py:3608 _call_for_each_replica\n        return fn(*args, **kwargs)\n    /opt/homebrew/Caskroom/miniforge/base/envs/tf/lib/python3.9/site-packages/tensorflow/python/keras/engine/training.py:838 run_step  **\n        outputs = model.train_step(data)\n    /var/folders/gc/yh4g1g0s0kdcs4xhf03jp0380000gn/T/ipykernel_52160/3780568049.py:57 train_step\n        [tf.ones((batch_size, 1)), tf.zeros((batch_size, 1))], axis=0\n    /opt/homebrew/Caskroom/miniforge/base/envs/tf/lib/python3.9/site-packages/tensorflow/python/util/dispatch.py:206 wrapper\n        return target(*args, **kwargs)\n    /opt/homebrew/Caskroom/miniforge/base/envs/tf/lib/python3.9/site-packages/tensorflow/python/ops/array_ops.py:3212 ones\n        output = _constant_if_small(one, shape, dtype, name)\n    /opt/homebrew/Caskroom/miniforge/base/envs/tf/lib/python3.9/site-packages/tensorflow/python/ops/array_ops.py:2896 _constant_if_small\n        if np.prod(shape) < 1000:\n    <__array_function__ internals>:5 prod\n        \n    /opt/homebrew/Caskroom/miniforge/base/envs/tf/lib/python3.9/site-packages/numpy/core/fromnumeric.py:3051 prod\n        return _wrapreduction(a, np.multiply, 'prod', axis, dtype, out,\n    /opt/homebrew/Caskroom/miniforge/base/envs/tf/lib/python3.9/site-packages/numpy/core/fromnumeric.py:86 _wrapreduction\n        return ufunc.reduce(obj, axis, dtype, out, **passkwargs)\n    /opt/homebrew/Caskroom/miniforge/base/envs/tf/lib/python3.9/site-packages/tensorflow/python/framework/ops.py:867 __array__\n        raise NotImplementedError(\n\n    NotImplementedError: Cannot convert a symbolic Tensor (strided_slice_1:0) to a numpy array. This error may indicate that you're trying to pass a Tensor to a NumPy call, which is not supported\n",
     "output_type": "error",
     "traceback": [
      "\u001b[0;31m---------------------------------------------------------------------------\u001b[0m",
      "\u001b[0;31mNotImplementedError\u001b[0m                       Traceback (most recent call last)",
      "\u001b[0;32m/var/folders/gc/yh4g1g0s0kdcs4xhf03jp0380000gn/T/ipykernel_52160/2049328598.py\u001b[0m in \u001b[0;36m<module>\u001b[0;34m\u001b[0m\n\u001b[1;32m     10\u001b[0m \u001b[0;34m\u001b[0m\u001b[0m\n\u001b[1;32m     11\u001b[0m \u001b[0;34m\u001b[0m\u001b[0m\n\u001b[0;32m---> 12\u001b[0;31m \u001b[0mcond_gan\u001b[0m\u001b[0;34m.\u001b[0m\u001b[0mfit\u001b[0m\u001b[0;34m(\u001b[0m\u001b[0mdataset\u001b[0m\u001b[0;34m,\u001b[0m \u001b[0mepochs\u001b[0m\u001b[0;34m=\u001b[0m\u001b[0;36m2\u001b[0m\u001b[0;34m)\u001b[0m\u001b[0;34m\u001b[0m\u001b[0;34m\u001b[0m\u001b[0m\n\u001b[0m",
      "\u001b[0;32m/opt/homebrew/Caskroom/miniforge/base/envs/tf/lib/python3.9/site-packages/tensorflow/python/keras/engine/training.py\u001b[0m in \u001b[0;36mfit\u001b[0;34m(self, x, y, batch_size, epochs, verbose, callbacks, validation_split, validation_data, shuffle, class_weight, sample_weight, initial_epoch, steps_per_epoch, validation_steps, validation_batch_size, validation_freq, max_queue_size, workers, use_multiprocessing)\u001b[0m\n\u001b[1;32m   1181\u001b[0m                 _r=1):\n\u001b[1;32m   1182\u001b[0m               \u001b[0mcallbacks\u001b[0m\u001b[0;34m.\u001b[0m\u001b[0mon_train_batch_begin\u001b[0m\u001b[0;34m(\u001b[0m\u001b[0mstep\u001b[0m\u001b[0;34m)\u001b[0m\u001b[0;34m\u001b[0m\u001b[0;34m\u001b[0m\u001b[0m\n\u001b[0;32m-> 1183\u001b[0;31m               \u001b[0mtmp_logs\u001b[0m \u001b[0;34m=\u001b[0m \u001b[0mself\u001b[0m\u001b[0;34m.\u001b[0m\u001b[0mtrain_function\u001b[0m\u001b[0;34m(\u001b[0m\u001b[0miterator\u001b[0m\u001b[0;34m)\u001b[0m\u001b[0;34m\u001b[0m\u001b[0;34m\u001b[0m\u001b[0m\n\u001b[0m\u001b[1;32m   1184\u001b[0m               \u001b[0;32mif\u001b[0m \u001b[0mdata_handler\u001b[0m\u001b[0;34m.\u001b[0m\u001b[0mshould_sync\u001b[0m\u001b[0;34m:\u001b[0m\u001b[0;34m\u001b[0m\u001b[0;34m\u001b[0m\u001b[0m\n\u001b[1;32m   1185\u001b[0m                 \u001b[0mcontext\u001b[0m\u001b[0;34m.\u001b[0m\u001b[0masync_wait\u001b[0m\u001b[0;34m(\u001b[0m\u001b[0;34m)\u001b[0m\u001b[0;34m\u001b[0m\u001b[0;34m\u001b[0m\u001b[0m\n",
      "\u001b[0;32m/opt/homebrew/Caskroom/miniforge/base/envs/tf/lib/python3.9/site-packages/tensorflow/python/eager/def_function.py\u001b[0m in \u001b[0;36m__call__\u001b[0;34m(self, *args, **kwds)\u001b[0m\n\u001b[1;32m    887\u001b[0m \u001b[0;34m\u001b[0m\u001b[0m\n\u001b[1;32m    888\u001b[0m       \u001b[0;32mwith\u001b[0m \u001b[0mOptionalXlaContext\u001b[0m\u001b[0;34m(\u001b[0m\u001b[0mself\u001b[0m\u001b[0;34m.\u001b[0m\u001b[0m_jit_compile\u001b[0m\u001b[0;34m)\u001b[0m\u001b[0;34m:\u001b[0m\u001b[0;34m\u001b[0m\u001b[0;34m\u001b[0m\u001b[0m\n\u001b[0;32m--> 889\u001b[0;31m         \u001b[0mresult\u001b[0m \u001b[0;34m=\u001b[0m \u001b[0mself\u001b[0m\u001b[0;34m.\u001b[0m\u001b[0m_call\u001b[0m\u001b[0;34m(\u001b[0m\u001b[0;34m*\u001b[0m\u001b[0margs\u001b[0m\u001b[0;34m,\u001b[0m \u001b[0;34m**\u001b[0m\u001b[0mkwds\u001b[0m\u001b[0;34m)\u001b[0m\u001b[0;34m\u001b[0m\u001b[0;34m\u001b[0m\u001b[0m\n\u001b[0m\u001b[1;32m    890\u001b[0m \u001b[0;34m\u001b[0m\u001b[0m\n\u001b[1;32m    891\u001b[0m       \u001b[0mnew_tracing_count\u001b[0m \u001b[0;34m=\u001b[0m \u001b[0mself\u001b[0m\u001b[0;34m.\u001b[0m\u001b[0mexperimental_get_tracing_count\u001b[0m\u001b[0;34m(\u001b[0m\u001b[0;34m)\u001b[0m\u001b[0;34m\u001b[0m\u001b[0;34m\u001b[0m\u001b[0m\n",
      "\u001b[0;32m/opt/homebrew/Caskroom/miniforge/base/envs/tf/lib/python3.9/site-packages/tensorflow/python/eager/def_function.py\u001b[0m in \u001b[0;36m_call\u001b[0;34m(self, *args, **kwds)\u001b[0m\n\u001b[1;32m    931\u001b[0m       \u001b[0;31m# This is the first call of __call__, so we have to initialize.\u001b[0m\u001b[0;34m\u001b[0m\u001b[0;34m\u001b[0m\u001b[0;34m\u001b[0m\u001b[0m\n\u001b[1;32m    932\u001b[0m       \u001b[0minitializers\u001b[0m \u001b[0;34m=\u001b[0m \u001b[0;34m[\u001b[0m\u001b[0;34m]\u001b[0m\u001b[0;34m\u001b[0m\u001b[0;34m\u001b[0m\u001b[0m\n\u001b[0;32m--> 933\u001b[0;31m       \u001b[0mself\u001b[0m\u001b[0;34m.\u001b[0m\u001b[0m_initialize\u001b[0m\u001b[0;34m(\u001b[0m\u001b[0margs\u001b[0m\u001b[0;34m,\u001b[0m \u001b[0mkwds\u001b[0m\u001b[0;34m,\u001b[0m \u001b[0madd_initializers_to\u001b[0m\u001b[0;34m=\u001b[0m\u001b[0minitializers\u001b[0m\u001b[0;34m)\u001b[0m\u001b[0;34m\u001b[0m\u001b[0;34m\u001b[0m\u001b[0m\n\u001b[0m\u001b[1;32m    934\u001b[0m     \u001b[0;32mfinally\u001b[0m\u001b[0;34m:\u001b[0m\u001b[0;34m\u001b[0m\u001b[0;34m\u001b[0m\u001b[0m\n\u001b[1;32m    935\u001b[0m       \u001b[0;31m# At this point we know that the initialization is complete (or less\u001b[0m\u001b[0;34m\u001b[0m\u001b[0;34m\u001b[0m\u001b[0;34m\u001b[0m\u001b[0m\n",
      "\u001b[0;32m/opt/homebrew/Caskroom/miniforge/base/envs/tf/lib/python3.9/site-packages/tensorflow/python/eager/def_function.py\u001b[0m in \u001b[0;36m_initialize\u001b[0;34m(self, args, kwds, add_initializers_to)\u001b[0m\n\u001b[1;32m    761\u001b[0m     \u001b[0mself\u001b[0m\u001b[0;34m.\u001b[0m\u001b[0m_graph_deleter\u001b[0m \u001b[0;34m=\u001b[0m \u001b[0mFunctionDeleter\u001b[0m\u001b[0;34m(\u001b[0m\u001b[0mself\u001b[0m\u001b[0;34m.\u001b[0m\u001b[0m_lifted_initializer_graph\u001b[0m\u001b[0;34m)\u001b[0m\u001b[0;34m\u001b[0m\u001b[0;34m\u001b[0m\u001b[0m\n\u001b[1;32m    762\u001b[0m     self._concrete_stateful_fn = (\n\u001b[0;32m--> 763\u001b[0;31m         self._stateful_fn._get_concrete_function_internal_garbage_collected(  # pylint: disable=protected-access\n\u001b[0m\u001b[1;32m    764\u001b[0m             *args, **kwds))\n\u001b[1;32m    765\u001b[0m \u001b[0;34m\u001b[0m\u001b[0m\n",
      "\u001b[0;32m/opt/homebrew/Caskroom/miniforge/base/envs/tf/lib/python3.9/site-packages/tensorflow/python/eager/function.py\u001b[0m in \u001b[0;36m_get_concrete_function_internal_garbage_collected\u001b[0;34m(self, *args, **kwargs)\u001b[0m\n\u001b[1;32m   3048\u001b[0m       \u001b[0margs\u001b[0m\u001b[0;34m,\u001b[0m \u001b[0mkwargs\u001b[0m \u001b[0;34m=\u001b[0m \u001b[0;32mNone\u001b[0m\u001b[0;34m,\u001b[0m \u001b[0;32mNone\u001b[0m\u001b[0;34m\u001b[0m\u001b[0;34m\u001b[0m\u001b[0m\n\u001b[1;32m   3049\u001b[0m     \u001b[0;32mwith\u001b[0m \u001b[0mself\u001b[0m\u001b[0;34m.\u001b[0m\u001b[0m_lock\u001b[0m\u001b[0;34m:\u001b[0m\u001b[0;34m\u001b[0m\u001b[0;34m\u001b[0m\u001b[0m\n\u001b[0;32m-> 3050\u001b[0;31m       \u001b[0mgraph_function\u001b[0m\u001b[0;34m,\u001b[0m \u001b[0m_\u001b[0m \u001b[0;34m=\u001b[0m \u001b[0mself\u001b[0m\u001b[0;34m.\u001b[0m\u001b[0m_maybe_define_function\u001b[0m\u001b[0;34m(\u001b[0m\u001b[0margs\u001b[0m\u001b[0;34m,\u001b[0m \u001b[0mkwargs\u001b[0m\u001b[0;34m)\u001b[0m\u001b[0;34m\u001b[0m\u001b[0;34m\u001b[0m\u001b[0m\n\u001b[0m\u001b[1;32m   3051\u001b[0m     \u001b[0;32mreturn\u001b[0m \u001b[0mgraph_function\u001b[0m\u001b[0;34m\u001b[0m\u001b[0;34m\u001b[0m\u001b[0m\n\u001b[1;32m   3052\u001b[0m \u001b[0;34m\u001b[0m\u001b[0m\n",
      "\u001b[0;32m/opt/homebrew/Caskroom/miniforge/base/envs/tf/lib/python3.9/site-packages/tensorflow/python/eager/function.py\u001b[0m in \u001b[0;36m_maybe_define_function\u001b[0;34m(self, args, kwargs)\u001b[0m\n\u001b[1;32m   3442\u001b[0m \u001b[0;34m\u001b[0m\u001b[0m\n\u001b[1;32m   3443\u001b[0m           \u001b[0mself\u001b[0m\u001b[0;34m.\u001b[0m\u001b[0m_function_cache\u001b[0m\u001b[0;34m.\u001b[0m\u001b[0mmissed\u001b[0m\u001b[0;34m.\u001b[0m\u001b[0madd\u001b[0m\u001b[0;34m(\u001b[0m\u001b[0mcall_context_key\u001b[0m\u001b[0;34m)\u001b[0m\u001b[0;34m\u001b[0m\u001b[0;34m\u001b[0m\u001b[0m\n\u001b[0;32m-> 3444\u001b[0;31m           \u001b[0mgraph_function\u001b[0m \u001b[0;34m=\u001b[0m \u001b[0mself\u001b[0m\u001b[0;34m.\u001b[0m\u001b[0m_create_graph_function\u001b[0m\u001b[0;34m(\u001b[0m\u001b[0margs\u001b[0m\u001b[0;34m,\u001b[0m \u001b[0mkwargs\u001b[0m\u001b[0;34m)\u001b[0m\u001b[0;34m\u001b[0m\u001b[0;34m\u001b[0m\u001b[0m\n\u001b[0m\u001b[1;32m   3445\u001b[0m           \u001b[0mself\u001b[0m\u001b[0;34m.\u001b[0m\u001b[0m_function_cache\u001b[0m\u001b[0;34m.\u001b[0m\u001b[0mprimary\u001b[0m\u001b[0;34m[\u001b[0m\u001b[0mcache_key\u001b[0m\u001b[0;34m]\u001b[0m \u001b[0;34m=\u001b[0m \u001b[0mgraph_function\u001b[0m\u001b[0;34m\u001b[0m\u001b[0;34m\u001b[0m\u001b[0m\n\u001b[1;32m   3446\u001b[0m \u001b[0;34m\u001b[0m\u001b[0m\n",
      "\u001b[0;32m/opt/homebrew/Caskroom/miniforge/base/envs/tf/lib/python3.9/site-packages/tensorflow/python/eager/function.py\u001b[0m in \u001b[0;36m_create_graph_function\u001b[0;34m(self, args, kwargs, override_flat_arg_shapes)\u001b[0m\n\u001b[1;32m   3277\u001b[0m     \u001b[0marg_names\u001b[0m \u001b[0;34m=\u001b[0m \u001b[0mbase_arg_names\u001b[0m \u001b[0;34m+\u001b[0m \u001b[0mmissing_arg_names\u001b[0m\u001b[0;34m\u001b[0m\u001b[0;34m\u001b[0m\u001b[0m\n\u001b[1;32m   3278\u001b[0m     graph_function = ConcreteFunction(\n\u001b[0;32m-> 3279\u001b[0;31m         func_graph_module.func_graph_from_py_func(\n\u001b[0m\u001b[1;32m   3280\u001b[0m             \u001b[0mself\u001b[0m\u001b[0;34m.\u001b[0m\u001b[0m_name\u001b[0m\u001b[0;34m,\u001b[0m\u001b[0;34m\u001b[0m\u001b[0;34m\u001b[0m\u001b[0m\n\u001b[1;32m   3281\u001b[0m             \u001b[0mself\u001b[0m\u001b[0;34m.\u001b[0m\u001b[0m_python_function\u001b[0m\u001b[0;34m,\u001b[0m\u001b[0;34m\u001b[0m\u001b[0;34m\u001b[0m\u001b[0m\n",
      "\u001b[0;32m/opt/homebrew/Caskroom/miniforge/base/envs/tf/lib/python3.9/site-packages/tensorflow/python/framework/func_graph.py\u001b[0m in \u001b[0;36mfunc_graph_from_py_func\u001b[0;34m(name, python_func, args, kwargs, signature, func_graph, autograph, autograph_options, add_control_dependencies, arg_names, op_return_value, collections, capture_by_value, override_flat_arg_shapes)\u001b[0m\n\u001b[1;32m    997\u001b[0m         \u001b[0m_\u001b[0m\u001b[0;34m,\u001b[0m \u001b[0moriginal_func\u001b[0m \u001b[0;34m=\u001b[0m \u001b[0mtf_decorator\u001b[0m\u001b[0;34m.\u001b[0m\u001b[0munwrap\u001b[0m\u001b[0;34m(\u001b[0m\u001b[0mpython_func\u001b[0m\u001b[0;34m)\u001b[0m\u001b[0;34m\u001b[0m\u001b[0;34m\u001b[0m\u001b[0m\n\u001b[1;32m    998\u001b[0m \u001b[0;34m\u001b[0m\u001b[0m\n\u001b[0;32m--> 999\u001b[0;31m       \u001b[0mfunc_outputs\u001b[0m \u001b[0;34m=\u001b[0m \u001b[0mpython_func\u001b[0m\u001b[0;34m(\u001b[0m\u001b[0;34m*\u001b[0m\u001b[0mfunc_args\u001b[0m\u001b[0;34m,\u001b[0m \u001b[0;34m**\u001b[0m\u001b[0mfunc_kwargs\u001b[0m\u001b[0;34m)\u001b[0m\u001b[0;34m\u001b[0m\u001b[0;34m\u001b[0m\u001b[0m\n\u001b[0m\u001b[1;32m   1000\u001b[0m \u001b[0;34m\u001b[0m\u001b[0m\n\u001b[1;32m   1001\u001b[0m       \u001b[0;31m# invariant: `func_outputs` contains only Tensors, CompositeTensors,\u001b[0m\u001b[0;34m\u001b[0m\u001b[0;34m\u001b[0m\u001b[0;34m\u001b[0m\u001b[0m\n",
      "\u001b[0;32m/opt/homebrew/Caskroom/miniforge/base/envs/tf/lib/python3.9/site-packages/tensorflow/python/eager/def_function.py\u001b[0m in \u001b[0;36mwrapped_fn\u001b[0;34m(*args, **kwds)\u001b[0m\n\u001b[1;32m    670\u001b[0m         \u001b[0;31m# the function a weak reference to itself to avoid a reference cycle.\u001b[0m\u001b[0;34m\u001b[0m\u001b[0;34m\u001b[0m\u001b[0;34m\u001b[0m\u001b[0m\n\u001b[1;32m    671\u001b[0m         \u001b[0;32mwith\u001b[0m \u001b[0mOptionalXlaContext\u001b[0m\u001b[0;34m(\u001b[0m\u001b[0mcompile_with_xla\u001b[0m\u001b[0;34m)\u001b[0m\u001b[0;34m:\u001b[0m\u001b[0;34m\u001b[0m\u001b[0;34m\u001b[0m\u001b[0m\n\u001b[0;32m--> 672\u001b[0;31m           \u001b[0mout\u001b[0m \u001b[0;34m=\u001b[0m \u001b[0mweak_wrapped_fn\u001b[0m\u001b[0;34m(\u001b[0m\u001b[0;34m)\u001b[0m\u001b[0;34m.\u001b[0m\u001b[0m__wrapped__\u001b[0m\u001b[0;34m(\u001b[0m\u001b[0;34m*\u001b[0m\u001b[0margs\u001b[0m\u001b[0;34m,\u001b[0m \u001b[0;34m**\u001b[0m\u001b[0mkwds\u001b[0m\u001b[0;34m)\u001b[0m\u001b[0;34m\u001b[0m\u001b[0;34m\u001b[0m\u001b[0m\n\u001b[0m\u001b[1;32m    673\u001b[0m         \u001b[0;32mreturn\u001b[0m \u001b[0mout\u001b[0m\u001b[0;34m\u001b[0m\u001b[0;34m\u001b[0m\u001b[0m\n\u001b[1;32m    674\u001b[0m \u001b[0;34m\u001b[0m\u001b[0m\n",
      "\u001b[0;32m/opt/homebrew/Caskroom/miniforge/base/envs/tf/lib/python3.9/site-packages/tensorflow/python/framework/func_graph.py\u001b[0m in \u001b[0;36mwrapper\u001b[0;34m(*args, **kwargs)\u001b[0m\n\u001b[1;32m    984\u001b[0m           \u001b[0;32mexcept\u001b[0m \u001b[0mException\u001b[0m \u001b[0;32mas\u001b[0m \u001b[0me\u001b[0m\u001b[0;34m:\u001b[0m  \u001b[0;31m# pylint:disable=broad-except\u001b[0m\u001b[0;34m\u001b[0m\u001b[0;34m\u001b[0m\u001b[0m\n\u001b[1;32m    985\u001b[0m             \u001b[0;32mif\u001b[0m \u001b[0mhasattr\u001b[0m\u001b[0;34m(\u001b[0m\u001b[0me\u001b[0m\u001b[0;34m,\u001b[0m \u001b[0;34m\"ag_error_metadata\"\u001b[0m\u001b[0;34m)\u001b[0m\u001b[0;34m:\u001b[0m\u001b[0;34m\u001b[0m\u001b[0;34m\u001b[0m\u001b[0m\n\u001b[0;32m--> 986\u001b[0;31m               \u001b[0;32mraise\u001b[0m \u001b[0me\u001b[0m\u001b[0;34m.\u001b[0m\u001b[0mag_error_metadata\u001b[0m\u001b[0;34m.\u001b[0m\u001b[0mto_exception\u001b[0m\u001b[0;34m(\u001b[0m\u001b[0me\u001b[0m\u001b[0;34m)\u001b[0m\u001b[0;34m\u001b[0m\u001b[0;34m\u001b[0m\u001b[0m\n\u001b[0m\u001b[1;32m    987\u001b[0m             \u001b[0;32melse\u001b[0m\u001b[0;34m:\u001b[0m\u001b[0;34m\u001b[0m\u001b[0;34m\u001b[0m\u001b[0m\n\u001b[1;32m    988\u001b[0m               \u001b[0;32mraise\u001b[0m\u001b[0;34m\u001b[0m\u001b[0;34m\u001b[0m\u001b[0m\n",
      "\u001b[0;31mNotImplementedError\u001b[0m: in user code:\n\n    /opt/homebrew/Caskroom/miniforge/base/envs/tf/lib/python3.9/site-packages/tensorflow/python/keras/engine/training.py:855 train_function  *\n        return step_function(self, iterator)\n    /opt/homebrew/Caskroom/miniforge/base/envs/tf/lib/python3.9/site-packages/tensorflow/python/keras/engine/training.py:845 step_function  **\n        outputs = model.distribute_strategy.run(run_step, args=(data,))\n    /opt/homebrew/Caskroom/miniforge/base/envs/tf/lib/python3.9/site-packages/tensorflow/python/distribute/distribute_lib.py:1285 run\n        return self._extended.call_for_each_replica(fn, args=args, kwargs=kwargs)\n    /opt/homebrew/Caskroom/miniforge/base/envs/tf/lib/python3.9/site-packages/tensorflow/python/distribute/distribute_lib.py:2833 call_for_each_replica\n        return self._call_for_each_replica(fn, args, kwargs)\n    /opt/homebrew/Caskroom/miniforge/base/envs/tf/lib/python3.9/site-packages/tensorflow/python/distribute/distribute_lib.py:3608 _call_for_each_replica\n        return fn(*args, **kwargs)\n    /opt/homebrew/Caskroom/miniforge/base/envs/tf/lib/python3.9/site-packages/tensorflow/python/keras/engine/training.py:838 run_step  **\n        outputs = model.train_step(data)\n    /var/folders/gc/yh4g1g0s0kdcs4xhf03jp0380000gn/T/ipykernel_52160/3780568049.py:57 train_step\n        [tf.ones((batch_size, 1)), tf.zeros((batch_size, 1))], axis=0\n    /opt/homebrew/Caskroom/miniforge/base/envs/tf/lib/python3.9/site-packages/tensorflow/python/util/dispatch.py:206 wrapper\n        return target(*args, **kwargs)\n    /opt/homebrew/Caskroom/miniforge/base/envs/tf/lib/python3.9/site-packages/tensorflow/python/ops/array_ops.py:3212 ones\n        output = _constant_if_small(one, shape, dtype, name)\n    /opt/homebrew/Caskroom/miniforge/base/envs/tf/lib/python3.9/site-packages/tensorflow/python/ops/array_ops.py:2896 _constant_if_small\n        if np.prod(shape) < 1000:\n    <__array_function__ internals>:5 prod\n        \n    /opt/homebrew/Caskroom/miniforge/base/envs/tf/lib/python3.9/site-packages/numpy/core/fromnumeric.py:3051 prod\n        return _wrapreduction(a, np.multiply, 'prod', axis, dtype, out,\n    /opt/homebrew/Caskroom/miniforge/base/envs/tf/lib/python3.9/site-packages/numpy/core/fromnumeric.py:86 _wrapreduction\n        return ufunc.reduce(obj, axis, dtype, out, **passkwargs)\n    /opt/homebrew/Caskroom/miniforge/base/envs/tf/lib/python3.9/site-packages/tensorflow/python/framework/ops.py:867 __array__\n        raise NotImplementedError(\n\n    NotImplementedError: Cannot convert a symbolic Tensor (strided_slice_1:0) to a numpy array. This error may indicate that you're trying to pass a Tensor to a NumPy call, which is not supported\n"
     ]
    }
   ],
   "source": [
    "cond_gan = ConditionalGAN(\n",
    "    discriminator=discriminator, generator=generator, latent_dim=latent_dim\n",
    ")\n",
    "cond_gan.compile(\n",
    "    d_optimizer=keras.optimizers.Adam(learning_rate=0.0003),\n",
    "    g_optimizer=keras.optimizers.Adam(learning_rate=0.0003),\n",
    "    loss_fn=keras.losses.BinaryCrossentropy(from_logits=True),\n",
    ")\n",
    "\n",
    "\n",
    "\n",
    "cond_gan.fit(dataset, epochs=2)"
   ]
  },
  {
   "cell_type": "code",
   "execution_count": null,
   "metadata": {},
   "outputs": [],
   "source": []
  },
  {
   "cell_type": "code",
   "execution_count": 46,
   "metadata": {},
   "outputs": [],
   "source": [
    "# We first extract the trained generator from our Conditional GAN.\n",
    "trained_gen = cond_gan.generator\n",
    "\n",
    "# Choose the number of intermediate images that would be generated in\n",
    "# between the interpolation + 2 (start and last images).\n",
    "num_interpolation = 9  # @param {type:\"integer\"}\n",
    "\n",
    "# Sample noise for the interpolation.\n",
    "interpolation_noise = tf.random.normal(shape=(1, latent_dim))\n",
    "interpolation_noise = tf.repeat(interpolation_noise, repeats=num_interpolation)\n",
    "interpolation_noise = tf.reshape(interpolation_noise, (num_interpolation, latent_dim))\n",
    "\n",
    "\n",
    "def interpolate_class(first_number, second_number):\n",
    "    # Convert the start and end labels to one-hot encoded vectors.\n",
    "    first_label = keras.utils.to_categorical([first_number], num_classes)\n",
    "    second_label = keras.utils.to_categorical([second_number], num_classes)\n",
    "    first_label = tf.cast(first_label, tf.float32)\n",
    "    second_label = tf.cast(second_label, tf.float32)\n",
    "\n",
    "    # Calculate the interpolation vector between the two labels.\n",
    "    percent_second_label = tf.linspace(0, 1, num_interpolation)[:, None]\n",
    "    percent_second_label = tf.cast(percent_second_label, tf.float32)\n",
    "    interpolation_labels = (\n",
    "        first_label * (1 - percent_second_label) + second_label * percent_second_label\n",
    "    )\n",
    "\n",
    "    # Combine the noise and the labels and run inference with the generator.\n",
    "    noise_and_labels = tf.concat([interpolation_noise, interpolation_labels], 1)\n",
    "    fake = trained_gen.predict(noise_and_labels)\n",
    "    return fake\n",
    "\n",
    "\n",
    "start_class = 8  # @param {type:\"slider\", min:0, max:9, step:1}\n",
    "end_class = 8  # @param {type:\"slider\", min:0, max:9, step:1}\n",
    "\n",
    "fake_images = interpolate_class(start_class, end_class)"
   ]
  },
  {
   "cell_type": "code",
   "execution_count": 47,
   "metadata": {},
   "outputs": [
    {
     "data": {
      "text/html": [
       "<img src=\"data:image/gif;base64,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\"/>"
      ],
      "text/plain": [
       "<IPython.core.display.HTML object>"
      ]
     },
     "execution_count": 47,
     "metadata": {},
     "output_type": "execute_result"
    }
   ],
   "source": [
    "fake_images *= 255.0\n",
    "converted_images = fake_images.astype(np.uint8)\n",
    "converted_images = tf.image.resize(converted_images, (96, 96)).numpy().astype(np.uint8)\n",
    "imageio.mimsave(\"animation.gif\", converted_images, fps=1)\n",
    "embed.embed_file(\"animation.gif\")"
   ]
  },
  {
   "cell_type": "code",
   "execution_count": 45,
   "metadata": {},
   "outputs": [
    {
     "data": {
      "text/plain": [
       "(9, 96, 96, 1)"
      ]
     },
     "execution_count": 45,
     "metadata": {},
     "output_type": "execute_result"
    }
   ],
   "source": [
    "converted_images.shape"
   ]
  },
  {
   "cell_type": "code",
   "execution_count": null,
   "metadata": {},
   "outputs": [],
   "source": []
  }
 ],
 "metadata": {
  "interpreter": {
   "hash": "52ee2977380704a66854748a73250e0671a9318bd5b3fd45a3df9f851ae61629"
  },
  "kernelspec": {
   "display_name": "Python 3.9.6 64-bit ('tf': conda)",
   "name": "python3"
  },
  "language_info": {
   "codemirror_mode": {
    "name": "ipython",
    "version": 3
   },
   "file_extension": ".py",
   "mimetype": "text/x-python",
   "name": "python",
   "nbconvert_exporter": "python",
   "pygments_lexer": "ipython3",
   "version": "3.9.6"
  },
  "orig_nbformat": 4
 },
 "nbformat": 4,
 "nbformat_minor": 2
}
